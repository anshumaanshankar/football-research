{
 "cells": [
  {
   "cell_type": "code",
   "execution_count": 47,
   "id": "da9cd736",
   "metadata": {},
   "outputs": [],
   "source": [
    "import pandas as pd\n",
    "import numpy as np\n",
    "import requests\n",
    "from bs4 import BeautifulSoup\n",
    "import warnings\n",
    "warnings.filterwarnings(\"ignore\")\n",
    "pd.set_option('display.max_rows', 500)"
   ]
  },
  {
   "cell_type": "code",
   "execution_count": null,
   "id": "1bdeb898",
   "metadata": {},
   "outputs": [],
   "source": [
    "file_path = 'madden_rankings.csv'\n",
    "madden_data = pd.read_csv(file_path)\n",
    "filtered_data = madden_data[['Full Name','firstName', 'lastName', 'Position', 'Team', 'totalSalary', 'overall_rating']]\n",
    "\n",
    "filtered_data.loc[:, 'rating_per_million'] = filtered_data['overall_rating'] / (filtered_data['totalSalary'] / 1_000_000)\n",
    "\n",
    "top_10_by_position = filtered_data.groupby('Position').apply(lambda x: x.nlargest(1, 'rating_per_million')).reset_index(drop=True)\n",
    "\n",
    "acquisition_keywords = {\n",
    "    'Drafted': ['drafted', 'draft', 'draft pick', 'pick number', 'selected', 'first round', 'second round', 'third round', 'fourth round'],\n",
    "    'Free Agent': ['free transfer', 'free agent'],\n",
    "    'Trade': ['trade', 'traded', 'exchange'],\n",
    "    'Waiver': ['waiver', 'claimed off waivers', 'waiver wire'],\n",
    "    'Undrafted Free Agent': ['undrafted', 'undrafted free agent']\n",
    "}\n",
    "\n",
    "def get_acquisition_method(row):\n",
    "    player_name = row['Full Name']\n",
    "    first = row['firstName']\n",
    "    last = row['lastName']\n",
    "    team_name = row['Team']\n",
    "    search_url = f\"https://www.google.com/search?q=How+was+{first}+{last}+acquired+by+{team_name}+spotrac\"\n",
    "\n",
    "    response = requests.get(search_url)\n",
    "    soup = BeautifulSoup(response.text, 'html.parser')\n",
    "    search_text = soup.get_text().lower()\n",
    "    \n",
    "    for method, keywords in acquisition_keywords.items():\n",
    "        if any(keyword in search_text for keyword in keywords):\n",
    "            return method\n",
    "    \n",
    "    return 'Unknown'\n",
    "\n",
    "top_10_by_position['Acquisition Method'] = top_10_by_position.apply(get_acquisition_method, axis=1)"
   ]
  },
  {
   "cell_type": "code",
   "execution_count": null,
   "id": "15589bea",
   "metadata": {},
   "outputs": [],
   "source": [
    "top_10_by_position['Acquisition Method'].value_counts()"
   ]
  },
  {
   "cell_type": "code",
   "execution_count": 52,
   "id": "b879b0a1",
   "metadata": {},
   "outputs": [],
   "source": [
    "top_10_by_position.to_csv('top15_players_per_position.csv')"
   ]
  },
  {
   "cell_type": "code",
   "execution_count": null,
   "id": "c544b7ec",
   "metadata": {},
   "outputs": [],
   "source": []
  }
 ],
 "metadata": {
  "kernelspec": {
   "display_name": "Python 3 (ipykernel)",
   "language": "python",
   "name": "python3"
  },
  "language_info": {
   "codemirror_mode": {
    "name": "ipython",
    "version": 3
   },
   "file_extension": ".py",
   "mimetype": "text/x-python",
   "name": "python",
   "nbconvert_exporter": "python",
   "pygments_lexer": "ipython3",
   "version": "3.10.6"
  }
 },
 "nbformat": 4,
 "nbformat_minor": 5
}
